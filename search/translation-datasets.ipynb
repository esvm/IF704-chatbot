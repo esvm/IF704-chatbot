{
  "nbformat": 4,
  "nbformat_minor": 0,
  "metadata": {
    "colab": {
      "name": "training.ipynb",
      "provenance": [],
      "include_colab_link": true
    },
    "kernelspec": {
      "name": "python3",
      "display_name": "Python 3"
    },
    "language_info": {
      "name": "python"
    }
  },
  "cells": [
    {
      "cell_type": "markdown",
      "metadata": {
        "id": "view-in-github",
        "colab_type": "text"
      },
      "source": [
        "<a href=\"https://colab.research.google.com/github/esvm/IF704-chatbot/blob/main/search/translation-datasets.ipynb\" target=\"_parent\"><img src=\"https://colab.research.google.com/assets/colab-badge.svg\" alt=\"Open In Colab\"/></a>"
      ]
    },
    {
      "cell_type": "markdown",
      "metadata": {
        "id": "oI0oKTw6LV1b"
      },
      "source": [
        "# Basic Instructions\n",
        "\n",
        "1. Create an account in [Kaggle](https://www.kaggle.com/)\n",
        "2. Go to your account (https://www.kaggle.com/<yourusername>/account)\n",
        "3. Generate a new API Token if you don't have one\n",
        "4. Upload the downloaded `kaggle.json` in this notebook folder"
      ]
    },
    {
      "cell_type": "markdown",
      "metadata": {
        "id": "tmGQGxifEAZE"
      },
      "source": [
        "# Installing [Kaggle](https://www.kaggle.com/)"
      ]
    },
    {
      "cell_type": "code",
      "metadata": {
        "colab": {
          "base_uri": "https://localhost:8080/"
        },
        "id": "HxqoKeX36KER",
        "outputId": "11498cc6-870d-403b-9b30-53e79dfe1a1c"
      },
      "source": [
        "! pip install kaggle"
      ],
      "execution_count": 2,
      "outputs": [
        {
          "output_type": "stream",
          "text": [
            "Requirement already satisfied: kaggle in /usr/local/lib/python3.7/dist-packages (1.5.12)\n",
            "Requirement already satisfied: certifi in /usr/local/lib/python3.7/dist-packages (from kaggle) (2021.5.30)\n",
            "Requirement already satisfied: urllib3 in /usr/local/lib/python3.7/dist-packages (from kaggle) (1.24.3)\n",
            "Requirement already satisfied: tqdm in /usr/local/lib/python3.7/dist-packages (from kaggle) (4.62.0)\n",
            "Requirement already satisfied: six>=1.10 in /usr/local/lib/python3.7/dist-packages (from kaggle) (1.15.0)\n",
            "Requirement already satisfied: python-slugify in /usr/local/lib/python3.7/dist-packages (from kaggle) (5.0.2)\n",
            "Requirement already satisfied: python-dateutil in /usr/local/lib/python3.7/dist-packages (from kaggle) (2.8.2)\n",
            "Requirement already satisfied: requests in /usr/local/lib/python3.7/dist-packages (from kaggle) (2.23.0)\n",
            "Requirement already satisfied: text-unidecode>=1.3 in /usr/local/lib/python3.7/dist-packages (from python-slugify->kaggle) (1.3)\n",
            "Requirement already satisfied: idna<3,>=2.5 in /usr/local/lib/python3.7/dist-packages (from requests->kaggle) (2.10)\n",
            "Requirement already satisfied: chardet<4,>=3.0.2 in /usr/local/lib/python3.7/dist-packages (from requests->kaggle) (3.0.4)\n"
          ],
          "name": "stdout"
        }
      ]
    },
    {
      "cell_type": "code",
      "metadata": {
        "id": "Pj1Adi-QH8sH"
      },
      "source": [
        "! mkdir ~/.kaggle"
      ],
      "execution_count": 3,
      "outputs": []
    },
    {
      "cell_type": "code",
      "metadata": {
        "id": "udpxS0vtEVMP"
      },
      "source": [
        "! cp kaggle.json ~/.kaggle/\n",
        "\n",
        "! chmod 600 ~/.kaggle/kaggle.json"
      ],
      "execution_count": 4,
      "outputs": []
    },
    {
      "cell_type": "markdown",
      "metadata": {
        "id": "eVSgRKK8JX4K"
      },
      "source": [
        "# Downloading Datasets"
      ]
    },
    {
      "cell_type": "code",
      "metadata": {
        "colab": {
          "base_uri": "https://localhost:8080/"
        },
        "id": "qLZJJSfaEb1K",
        "outputId": "fea8a87d-03cc-45c9-8460-274a06001afb"
      },
      "source": [
        "! kaggle datasets download -d devicharith/language-translation-englishfrench\n",
        "! kaggle datasets download -d nageshsingh/englishportuguese-translation\n",
        "! kaggle datasets download -d samirmoustafa/arabic-to-english-translation-sentences\n",
        "! kaggle datasets download -d kaushal2896/english-to-german"
      ],
      "execution_count": 13,
      "outputs": [
        {
          "output_type": "stream",
          "text": [
            "Downloading language-translation-englishfrench.zip to /content\n",
            "\r  0% 0.00/3.51M [00:00<?, ?B/s]\n",
            "100% 3.51M/3.51M [00:00<00:00, 116MB/s]\n",
            "Downloading englishportuguese-translation.zip to /content\n",
            "  0% 0.00/5.41M [00:00<?, ?B/s]\n",
            "100% 5.41M/5.41M [00:00<00:00, 88.6MB/s]\n",
            "Downloading arabic-to-english-translation-sentences.zip to /content\n",
            "  0% 0.00/2.16M [00:00<?, ?B/s]\n",
            "100% 2.16M/2.16M [00:00<00:00, 71.7MB/s]\n",
            "Downloading english-to-german.zip to /content\n",
            " 88% 7.00M/7.99M [00:00<00:00, 12.0MB/s]\n",
            "100% 7.99M/7.99M [00:00<00:00, 13.6MB/s]\n"
          ],
          "name": "stdout"
        }
      ]
    },
    {
      "cell_type": "code",
      "metadata": {
        "id": "D0BsY_AoK4xC"
      },
      "source": [
        "import os\n",
        "\n",
        "if not os.path.exists('./dataset'):\n",
        "        os.makedirs('./dataset')"
      ],
      "execution_count": 6,
      "outputs": []
    },
    {
      "cell_type": "code",
      "metadata": {
        "id": "4mhbGsTjKpb-"
      },
      "source": [
        "! mv language-translation-englishfrench.zip ./dataset\n",
        "! mv englishportuguese-translation.zip ./dataset\n",
        "! mv arabic-to-english-translation-sentences.zip ./dataset\n",
        "! mv english-to-german.zip ./dataset"
      ],
      "execution_count": 14,
      "outputs": []
    },
    {
      "cell_type": "code",
      "metadata": {
        "id": "7kPyIe5GM_sw"
      },
      "source": [
        "import zipfile\n",
        "\n",
        "with zipfile.ZipFile('./dataset/language-translation-englishfrench.zip', 'r') as zip_ref:\n",
        "    zip_ref.extractall('./dataset')\n",
        "\n",
        "with zipfile.ZipFile('./dataset/englishportuguese-translation.zip', 'r') as zip_ref:\n",
        "    zip_ref.extractall('./dataset')\n",
        "\n",
        "with zipfile.ZipFile('./dataset/arabic-to-english-translation-sentences.zip', 'r') as zip_ref:\n",
        "    zip_ref.extractall('./dataset')\n",
        "\n",
        "with zipfile.ZipFile('./dataset/english-to-german.zip', 'r') as zip_ref:\n",
        "    zip_ref.extractall('./dataset')"
      ],
      "execution_count": 16,
      "outputs": []
    }
  ]
}