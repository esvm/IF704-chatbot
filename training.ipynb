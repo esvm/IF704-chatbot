{
  "nbformat": 4,
  "nbformat_minor": 0,
  "metadata": {
    "colab": {
      "name": "training.ipynb",
      "provenance": [],
      "authorship_tag": "ABX9TyOUzeRYvWKwN68uZaih66i8",
      "include_colab_link": true
    },
    "kernelspec": {
      "name": "python3",
      "display_name": "Python 3"
    },
    "language_info": {
      "name": "python"
    }
  },
  "cells": [
    {
      "cell_type": "markdown",
      "metadata": {
        "id": "view-in-github",
        "colab_type": "text"
      },
      "source": [
        "<a href=\"https://colab.research.google.com/github/esvm/IF704-chatbot/blob/main/training.ipynb\" target=\"_parent\"><img src=\"https://colab.research.google.com/assets/colab-badge.svg\" alt=\"Open In Colab\"/></a>"
      ]
    },
    {
      "cell_type": "markdown",
      "metadata": {
        "id": "oI0oKTw6LV1b"
      },
      "source": [
        "# Basic Instructions\n",
        "\n",
        "1. Create an account in [Kaggle](https://www.kaggle.com/)\n",
        "2. Go to your account (https://www.kaggle.com/<yourusername>/account)\n",
        "3. Generate a new API Token if you don't have one\n",
        "4. Upload the downloaded `kaggle.json` in this notebook folder"
      ]
    },
    {
      "cell_type": "markdown",
      "metadata": {
        "id": "tmGQGxifEAZE"
      },
      "source": [
        "# Installing [Kaggle](https://www.kaggle.com/)"
      ]
    },
    {
      "cell_type": "code",
      "metadata": {
        "colab": {
          "base_uri": "https://localhost:8080/"
        },
        "id": "HxqoKeX36KER",
        "outputId": "699d081a-186f-46c5-ef4c-d6a2b4813d1a"
      },
      "source": [
        "! pip install kaggle"
      ],
      "execution_count": 10,
      "outputs": [
        {
          "output_type": "stream",
          "text": [
            "Requirement already satisfied: kaggle in /usr/local/lib/python3.7/dist-packages (1.5.12)\n",
            "Requirement already satisfied: tqdm in /usr/local/lib/python3.7/dist-packages (from kaggle) (4.41.1)\n",
            "Requirement already satisfied: python-dateutil in /usr/local/lib/python3.7/dist-packages (from kaggle) (2.8.1)\n",
            "Requirement already satisfied: python-slugify in /usr/local/lib/python3.7/dist-packages (from kaggle) (5.0.2)\n",
            "Requirement already satisfied: six>=1.10 in /usr/local/lib/python3.7/dist-packages (from kaggle) (1.15.0)\n",
            "Requirement already satisfied: urllib3 in /usr/local/lib/python3.7/dist-packages (from kaggle) (1.24.3)\n",
            "Requirement already satisfied: certifi in /usr/local/lib/python3.7/dist-packages (from kaggle) (2021.5.30)\n",
            "Requirement already satisfied: requests in /usr/local/lib/python3.7/dist-packages (from kaggle) (2.23.0)\n",
            "Requirement already satisfied: text-unidecode>=1.3 in /usr/local/lib/python3.7/dist-packages (from python-slugify->kaggle) (1.3)\n",
            "Requirement already satisfied: idna<3,>=2.5 in /usr/local/lib/python3.7/dist-packages (from requests->kaggle) (2.10)\n",
            "Requirement already satisfied: chardet<4,>=3.0.2 in /usr/local/lib/python3.7/dist-packages (from requests->kaggle) (3.0.4)\n"
          ],
          "name": "stdout"
        }
      ]
    },
    {
      "cell_type": "code",
      "metadata": {
        "id": "Pj1Adi-QH8sH"
      },
      "source": [
        "import os\n",
        "\n",
        "if not os.path.exists('~/.kaggle'):\n",
        "        os.makedirs('~/.kaggle')"
      ],
      "execution_count": 12,
      "outputs": []
    },
    {
      "cell_type": "code",
      "metadata": {
        "id": "udpxS0vtEVMP"
      },
      "source": [
        "! cp kaggle.json ~/.kaggle/\n",
        "\n",
        "! chmod 600 ~/.kaggle/kaggle.json"
      ],
      "execution_count": 16,
      "outputs": []
    },
    {
      "cell_type": "markdown",
      "metadata": {
        "id": "eVSgRKK8JX4K"
      },
      "source": [
        "# Downloading Dataset"
      ]
    },
    {
      "cell_type": "code",
      "metadata": {
        "colab": {
          "base_uri": "https://localhost:8080/"
        },
        "id": "qLZJJSfaEb1K",
        "outputId": "4025ecf6-f9dd-491f-9e73-82e2fda56772"
      },
      "source": [
        "! kaggle datasets download -d rajathmc/cornell-moviedialog-corpus"
      ],
      "execution_count": 17,
      "outputs": [
        {
          "output_type": "stream",
          "text": [
            "Downloading cornell-moviedialog-corpus.zip to /content\n",
            " 52% 5.00M/9.58M [00:00<00:00, 11.1MB/s]\n",
            "100% 9.58M/9.58M [00:00<00:00, 19.5MB/s]\n"
          ],
          "name": "stdout"
        }
      ]
    },
    {
      "cell_type": "code",
      "metadata": {
        "id": "D0BsY_AoK4xC"
      },
      "source": [
        "if not os.path.exists('./dataset'):\n",
        "        os.makedirs('./dataset')"
      ],
      "execution_count": 19,
      "outputs": []
    },
    {
      "cell_type": "code",
      "metadata": {
        "id": "4mhbGsTjKpb-"
      },
      "source": [
        "! mv cornell-moviedialog-corpus.zip ./dataset"
      ],
      "execution_count": 20,
      "outputs": []
    },
    {
      "cell_type": "code",
      "metadata": {
        "id": "7kPyIe5GM_sw"
      },
      "source": [
        "import zipfile\n",
        "with zipfile.ZipFile('./dataset/cornell-moviedialog-corpus.zip', 'r') as zip_ref:\n",
        "    zip_ref.extractall('./dataset')"
      ],
      "execution_count": 26,
      "outputs": []
    },
    {
      "cell_type": "markdown",
      "metadata": {
        "id": "NHKZQwUUMDsO"
      },
      "source": [
        "# Setup Dependencies"
      ]
    },
    {
      "cell_type": "code",
      "metadata": {
        "id": "zxrVnG-qMHve"
      },
      "source": [
        ""
      ],
      "execution_count": null,
      "outputs": []
    },
    {
      "cell_type": "markdown",
      "metadata": {
        "id": "QsyFZBzjL-u8"
      },
      "source": [
        "# Reading Data"
      ]
    },
    {
      "cell_type": "code",
      "metadata": {
        "id": "48MERhzcMBr2"
      },
      "source": [
        ""
      ],
      "execution_count": null,
      "outputs": []
    }
  ]
}